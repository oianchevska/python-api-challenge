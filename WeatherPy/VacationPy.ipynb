{
 "cells": [
  {
   "cell_type": "markdown",
   "metadata": {},
   "source": [
    "# VacationPy"
   ]
  },
  {
   "cell_type": "code",
   "execution_count": 1,
   "metadata": {},
   "outputs": [],
   "source": [
    "# Dependencies and Setup\n",
    "import matplotlib.pyplot as plt\n",
    "import pandas as pd\n",
    "import numpy as np\n",
    "import requests\n",
    "import gmaps\n",
    "import os\n",
    "\n",
    "# Import API key\n",
    "from config import g_key"
   ]
  },
  {
   "cell_type": "markdown",
   "metadata": {},
   "source": [
    "### Store Part I results into DataFrame"
   ]
  },
  {
   "cell_type": "code",
   "execution_count": 2,
   "metadata": {
    "scrolled": true
   },
   "outputs": [
    {
     "data": {
      "text/html": [
       "<div>\n",
       "<style scoped>\n",
       "    .dataframe tbody tr th:only-of-type {\n",
       "        vertical-align: middle;\n",
       "    }\n",
       "\n",
       "    .dataframe tbody tr th {\n",
       "        vertical-align: top;\n",
       "    }\n",
       "\n",
       "    .dataframe thead th {\n",
       "        text-align: right;\n",
       "    }\n",
       "</style>\n",
       "<table border=\"1\" class=\"dataframe\">\n",
       "  <thead>\n",
       "    <tr style=\"text-align: right;\">\n",
       "      <th></th>\n",
       "      <th>Date</th>\n",
       "      <th>Country</th>\n",
       "      <th>City</th>\n",
       "      <th>Lat</th>\n",
       "      <th>Lon</th>\n",
       "      <th>Max Tem</th>\n",
       "      <th>Cloudiness</th>\n",
       "      <th>Humidity</th>\n",
       "      <th>Wind Speed</th>\n",
       "    </tr>\n",
       "  </thead>\n",
       "  <tbody>\n",
       "    <tr>\n",
       "      <td>0</td>\n",
       "      <td>1586628128</td>\n",
       "      <td>CK</td>\n",
       "      <td>Avarua</td>\n",
       "      <td>-21.21</td>\n",
       "      <td>-159.78</td>\n",
       "      <td>78.8</td>\n",
       "      <td>65</td>\n",
       "      <td>100</td>\n",
       "      <td>2.24</td>\n",
       "    </tr>\n",
       "    <tr>\n",
       "      <td>1</td>\n",
       "      <td>1586628171</td>\n",
       "      <td>ZA</td>\n",
       "      <td>Bredasdorp</td>\n",
       "      <td>-34.53</td>\n",
       "      <td>20.04</td>\n",
       "      <td>70.0</td>\n",
       "      <td>100</td>\n",
       "      <td>82</td>\n",
       "      <td>3.36</td>\n",
       "    </tr>\n",
       "    <tr>\n",
       "      <td>2</td>\n",
       "      <td>1586628265</td>\n",
       "      <td>NZ</td>\n",
       "      <td>Mataura</td>\n",
       "      <td>-46.19</td>\n",
       "      <td>168.86</td>\n",
       "      <td>54.0</td>\n",
       "      <td>100</td>\n",
       "      <td>74</td>\n",
       "      <td>3.00</td>\n",
       "    </tr>\n",
       "    <tr>\n",
       "      <td>3</td>\n",
       "      <td>1586628265</td>\n",
       "      <td>US</td>\n",
       "      <td>Saint Paul Harbor</td>\n",
       "      <td>57.79</td>\n",
       "      <td>-152.41</td>\n",
       "      <td>39.2</td>\n",
       "      <td>90</td>\n",
       "      <td>80</td>\n",
       "      <td>17.22</td>\n",
       "    </tr>\n",
       "    <tr>\n",
       "      <td>4</td>\n",
       "      <td>1586628068</td>\n",
       "      <td>MX</td>\n",
       "      <td>San Patricio</td>\n",
       "      <td>19.22</td>\n",
       "      <td>-104.70</td>\n",
       "      <td>86.0</td>\n",
       "      <td>40</td>\n",
       "      <td>74</td>\n",
       "      <td>11.41</td>\n",
       "    </tr>\n",
       "  </tbody>\n",
       "</table>\n",
       "</div>"
      ],
      "text/plain": [
       "         Date Country               City    Lat     Lon  Max Tem  Cloudiness  \\\n",
       "0  1586628128      CK             Avarua -21.21 -159.78     78.8          65   \n",
       "1  1586628171      ZA         Bredasdorp -34.53   20.04     70.0         100   \n",
       "2  1586628265      NZ            Mataura -46.19  168.86     54.0         100   \n",
       "3  1586628265      US  Saint Paul Harbor  57.79 -152.41     39.2          90   \n",
       "4  1586628068      MX       San Patricio  19.22 -104.70     86.0          40   \n",
       "\n",
       "   Humidity  Wind Speed  \n",
       "0       100        2.24  \n",
       "1        82        3.36  \n",
       "2        74        3.00  \n",
       "3        80       17.22  \n",
       "4        74       11.41  "
      ]
     },
     "execution_count": 2,
     "metadata": {},
     "output_type": "execute_result"
    }
   ],
   "source": [
    "# Load the csv exported in Part I to a DataFrame\n",
    "file='./Output_data/cities.csv'\n",
    "weather_df=pd.read_csv(file)\n",
    "weather_df.head()"
   ]
  },
  {
   "cell_type": "markdown",
   "metadata": {},
   "source": [
    "### Humidity Heatmap"
   ]
  },
  {
   "cell_type": "code",
   "execution_count": 3,
   "metadata": {},
   "outputs": [
    {
     "data": {
      "application/vnd.jupyter.widget-view+json": {
       "model_id": "ec2e1122f516457da7414a27518060ff",
       "version_major": 2,
       "version_minor": 0
      },
      "text/plain": [
       "Figure(layout=FigureLayout(height='420px'))"
      ]
     },
     "metadata": {},
     "output_type": "display_data"
    }
   ],
   "source": [
    "# Configure gmaps\n",
    "gmaps.configure(api_key=g_key)\n",
    "\n",
    "# Use the Lat and Lng as locations and Humidity as the weight\n",
    "locations = weather_df[[\"Lat\", \"Lon\"]]\n",
    "weight=weather_df[\"Humidity\"].astype(float)\n",
    "\n",
    "# Add Heatmap layer to map\n",
    "fig=gmaps.figure(center=(44.0,-6.0),zoom_level=2)\n",
    "\n",
    "heat_layer = gmaps.heatmap_layer(locations, weights=weight, \n",
    "                                 dissipating=False, max_intensity=np.max(weight),\n",
    "                                 point_radius=4)\n",
    "fig.add_layer(heat_layer)\n",
    "fig"
   ]
  },
  {
   "cell_type": "markdown",
   "metadata": {},
   "source": [
    "### Create new DataFrame fitting weather criteria"
   ]
  },
  {
   "cell_type": "code",
   "execution_count": 6,
   "metadata": {},
   "outputs": [
    {
     "data": {
      "text/html": [
       "<div>\n",
       "<style scoped>\n",
       "    .dataframe tbody tr th:only-of-type {\n",
       "        vertical-align: middle;\n",
       "    }\n",
       "\n",
       "    .dataframe tbody tr th {\n",
       "        vertical-align: top;\n",
       "    }\n",
       "\n",
       "    .dataframe thead th {\n",
       "        text-align: right;\n",
       "    }\n",
       "</style>\n",
       "<table border=\"1\" class=\"dataframe\">\n",
       "  <thead>\n",
       "    <tr style=\"text-align: right;\">\n",
       "      <th></th>\n",
       "      <th>Date</th>\n",
       "      <th>Country</th>\n",
       "      <th>City</th>\n",
       "      <th>Lat</th>\n",
       "      <th>Lon</th>\n",
       "      <th>Max Tem</th>\n",
       "      <th>Cloudiness</th>\n",
       "      <th>Humidity</th>\n",
       "      <th>Wind Speed</th>\n",
       "    </tr>\n",
       "  </thead>\n",
       "  <tbody>\n",
       "    <tr>\n",
       "      <td>0</td>\n",
       "      <td>1586628306</td>\n",
       "      <td>NaN</td>\n",
       "      <td>Lüderitz</td>\n",
       "      <td>-26.65</td>\n",
       "      <td>15.16</td>\n",
       "      <td>73.40</td>\n",
       "      <td>0</td>\n",
       "      <td>49</td>\n",
       "      <td>9.17</td>\n",
       "    </tr>\n",
       "    <tr>\n",
       "      <td>1</td>\n",
       "      <td>1586628104</td>\n",
       "      <td>UY</td>\n",
       "      <td>Paso de los Toros</td>\n",
       "      <td>-32.82</td>\n",
       "      <td>-56.52</td>\n",
       "      <td>73.69</td>\n",
       "      <td>0</td>\n",
       "      <td>38</td>\n",
       "      <td>5.97</td>\n",
       "    </tr>\n",
       "    <tr>\n",
       "      <td>2</td>\n",
       "      <td>1586628173</td>\n",
       "      <td>FR</td>\n",
       "      <td>Cherbourg-en-Cotentin</td>\n",
       "      <td>49.64</td>\n",
       "      <td>-1.61</td>\n",
       "      <td>66.20</td>\n",
       "      <td>0</td>\n",
       "      <td>45</td>\n",
       "      <td>3.36</td>\n",
       "    </tr>\n",
       "    <tr>\n",
       "      <td>3</td>\n",
       "      <td>1586628341</td>\n",
       "      <td>EG</td>\n",
       "      <td>Maţāy</td>\n",
       "      <td>28.42</td>\n",
       "      <td>30.78</td>\n",
       "      <td>68.32</td>\n",
       "      <td>0</td>\n",
       "      <td>25</td>\n",
       "      <td>6.29</td>\n",
       "    </tr>\n",
       "    <tr>\n",
       "      <td>4</td>\n",
       "      <td>1586628352</td>\n",
       "      <td>EG</td>\n",
       "      <td>Rosetta</td>\n",
       "      <td>31.40</td>\n",
       "      <td>30.42</td>\n",
       "      <td>62.60</td>\n",
       "      <td>0</td>\n",
       "      <td>72</td>\n",
       "      <td>8.05</td>\n",
       "    </tr>\n",
       "  </tbody>\n",
       "</table>\n",
       "</div>"
      ],
      "text/plain": [
       "         Date Country                   City    Lat    Lon  Max Tem  \\\n",
       "0  1586628306     NaN               Lüderitz -26.65  15.16    73.40   \n",
       "1  1586628104      UY      Paso de los Toros -32.82 -56.52    73.69   \n",
       "2  1586628173      FR  Cherbourg-en-Cotentin  49.64  -1.61    66.20   \n",
       "3  1586628341      EG                  Maţāy  28.42  30.78    68.32   \n",
       "4  1586628352      EG                Rosetta  31.40  30.42    62.60   \n",
       "\n",
       "   Cloudiness  Humidity  Wind Speed  \n",
       "0           0        49        9.17  \n",
       "1           0        38        5.97  \n",
       "2           0        45        3.36  \n",
       "3           0        25        6.29  \n",
       "4           0        72        8.05  "
      ]
     },
     "execution_count": 6,
     "metadata": {},
     "output_type": "execute_result"
    }
   ],
   "source": [
    "# Narrow down the cities to fit weather conditions and Drop any rows will null values\n",
    "hotel_df=weather_df[(weather_df[\"Max Tem\"] <75)&(weather_df[\"Max Tem\"] > 60)&(weather_df[\"Wind Speed\"]< 10.0)&(weather_df[\"Cloudiness\"]==0)].reset_index(drop=True) \n",
    "hotel_df[:\"\"]"
   ]
  },
  {
   "cell_type": "markdown",
   "metadata": {},
   "source": [
    "### Hotel Map"
   ]
  },
  {
   "cell_type": "code",
   "execution_count": 15,
   "metadata": {},
   "outputs": [
    {
     "data": {
      "text/html": [
       "<div>\n",
       "<style scoped>\n",
       "    .dataframe tbody tr th:only-of-type {\n",
       "        vertical-align: middle;\n",
       "    }\n",
       "\n",
       "    .dataframe tbody tr th {\n",
       "        vertical-align: top;\n",
       "    }\n",
       "\n",
       "    .dataframe thead th {\n",
       "        text-align: right;\n",
       "    }\n",
       "</style>\n",
       "<table border=\"1\" class=\"dataframe\">\n",
       "  <thead>\n",
       "    <tr style=\"text-align: right;\">\n",
       "      <th></th>\n",
       "      <th>Date</th>\n",
       "      <th>Country</th>\n",
       "      <th>City</th>\n",
       "      <th>Lat</th>\n",
       "      <th>Lon</th>\n",
       "      <th>Max Tem</th>\n",
       "      <th>Cloudiness</th>\n",
       "      <th>Humidity</th>\n",
       "      <th>Wind Speed</th>\n",
       "      <th>Hotel Name</th>\n",
       "    </tr>\n",
       "  </thead>\n",
       "  <tbody>\n",
       "    <tr>\n",
       "      <td>0</td>\n",
       "      <td>1586624559</td>\n",
       "      <td>EG</td>\n",
       "      <td>Beni Suef</td>\n",
       "      <td>29.07</td>\n",
       "      <td>31.10</td>\n",
       "      <td>67.51</td>\n",
       "      <td>0</td>\n",
       "      <td>30</td>\n",
       "      <td>6.96</td>\n",
       "      <td></td>\n",
       "    </tr>\n",
       "    <tr>\n",
       "      <td>1</td>\n",
       "      <td>1586624571</td>\n",
       "      <td>IT</td>\n",
       "      <td>Forio</td>\n",
       "      <td>40.73</td>\n",
       "      <td>13.86</td>\n",
       "      <td>66.00</td>\n",
       "      <td>0</td>\n",
       "      <td>77</td>\n",
       "      <td>4.70</td>\n",
       "      <td></td>\n",
       "    </tr>\n",
       "    <tr>\n",
       "      <td>2</td>\n",
       "      <td>1586624574</td>\n",
       "      <td>DE</td>\n",
       "      <td>Hofheim</td>\n",
       "      <td>50.09</td>\n",
       "      <td>8.45</td>\n",
       "      <td>73.00</td>\n",
       "      <td>0</td>\n",
       "      <td>21</td>\n",
       "      <td>3.36</td>\n",
       "      <td></td>\n",
       "    </tr>\n",
       "  </tbody>\n",
       "</table>\n",
       "</div>"
      ],
      "text/plain": [
       "         Date Country       City    Lat    Lon  Max Tem  Cloudiness  Humidity  \\\n",
       "0  1586624559      EG  Beni Suef  29.07  31.10    67.51           0        30   \n",
       "1  1586624571      IT      Forio  40.73  13.86    66.00           0        77   \n",
       "2  1586624574      DE    Hofheim  50.09   8.45    73.00           0        21   \n",
       "\n",
       "   Wind Speed Hotel Name  \n",
       "0        6.96             \n",
       "1        4.70             \n",
       "2        3.36             "
      ]
     },
     "execution_count": 15,
     "metadata": {},
     "output_type": "execute_result"
    }
   ],
   "source": [
    "# Add a \"Hotel Name\" column to the DataFrame\n",
    "hotel_df[\"Hotel Name\"]=\"\"\n",
    "hotel_df"
   ]
  },
  {
   "cell_type": "code",
   "execution_count": 16,
   "metadata": {},
   "outputs": [],
   "source": [
    "base_url = \"https://maps.googleapis.com/maps/api/place/nearbysearch/json\"\n",
    "\n",
    "# Set parameters to search for hotels with 5000 meters\n",
    "params = {\"type\" : \"hotel\",\n",
    "          \"keyword\" : \"hotel\",\n",
    "          \"radius\" : 5000,\n",
    "          \"key\" : g_key}\n",
    "\n",
    "# Hit the Google Places API for each city's coordinates\n",
    "\n",
    "\n",
    "# Store the first Hotel result into the DataFrame\n",
    "\n",
    "\n",
    "\n"
   ]
  },
  {
   "cell_type": "code",
   "execution_count": null,
   "metadata": {},
   "outputs": [],
   "source": [
    "# NOTE: Do not change any of the code in this cell\n",
    "\n",
    "# Using the template add the hotel marks to the heatmap\n",
    "info_box_template = \"\"\"\n",
    "<dl>\n",
    "<dt>Name</dt><dd>{Hotel Name}</dd>\n",
    "<dt>City</dt><dd>{City}</dd>\n",
    "<dt>Country</dt><dd>{Country}</dd>\n",
    "</dl>\n",
    "\"\"\"\n",
    "# Store the DataFrame Row\n",
    "# NOTE: be sure to update with your DataFrame name\n",
    "hotel_info = [info_box_template.format(**row) for index, row in hotel_df.iterrows()]\n",
    "locations = hotel_df[[\"Lat\", \"Lng\"]]"
   ]
  },
  {
   "cell_type": "code",
   "execution_count": null,
   "metadata": {},
   "outputs": [],
   "source": [
    "# Add marker layer ontop of heat map\n",
    "\n",
    "\n",
    "# Display Map\n"
   ]
  }
 ],
 "metadata": {
  "kernelspec": {
   "display_name": "Python 3",
   "language": "python",
   "name": "python3"
  },
  "language_info": {
   "codemirror_mode": {
    "name": "ipython",
    "version": 3
   },
   "file_extension": ".py",
   "mimetype": "text/x-python",
   "name": "python",
   "nbconvert_exporter": "python",
   "pygments_lexer": "ipython3",
   "version": "3.7.4"
  },
  "latex_envs": {
   "LaTeX_envs_menu_present": true,
   "autoclose": false,
   "autocomplete": true,
   "bibliofile": "biblio.bib",
   "cite_by": "apalike",
   "current_citInitial": 1,
   "eqLabelWithNumbers": true,
   "eqNumInitial": 1,
   "hotkeys": {
    "equation": "Ctrl-E",
    "itemize": "Ctrl-I"
   },
   "labels_anchors": false,
   "latex_user_defs": false,
   "report_style_numbering": false,
   "user_envs_cfg": false
  }
 },
 "nbformat": 4,
 "nbformat_minor": 2
}
